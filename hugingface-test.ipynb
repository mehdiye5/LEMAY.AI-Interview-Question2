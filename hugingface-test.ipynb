{
 "cells": [
  {
   "cell_type": "code",
   "execution_count": 13,
   "metadata": {},
   "outputs": [],
   "source": [
    "import requests\n",
    "import threading\n",
    "import time"
   ]
  },
  {
   "cell_type": "code",
   "execution_count": 19,
   "metadata": {},
   "outputs": [],
   "source": [
    "def worker(num,data):\n",
    "    \"\"\"Worker thread\"\"\"\n",
    "    \n",
    "    api_url = \"http://localhost:8080/predict\"\n",
    "\n",
    "    response = requests.post(api_url, json=data, stream=True)\n",
    "    for line in response.iter_lines():\n",
    "        if line:\n",
    "            result = line.decode('utf-8')\n",
    "            print(result)\n",
    "    print(\"For Thread \" + str(num) + \" \" + \"Request Completed with the status code of:\", response.status_code)"
   ]
  },
  {
   "attachments": {},
   "cell_type": "markdown",
   "metadata": {},
   "source": [
    "I used threading to simulate multiple parallel incoming requests"
   ]
  },
  {
   "cell_type": "code",
   "execution_count": 20,
   "metadata": {},
   "outputs": [
    {
     "name": "stdout",
     "output_type": "stream",
     "text": [
      "{'score': 0.09438718110322952, 'token': 186, 'token_str': '...', 'sequence': 'Le camembert est un grand modele de...'}{'score': 0.08577338606119156, 'token': 6432, 'token_str': 'dessert', 'sequence': 'Le camembert est un grand modele de dessert'}{'score': 0.06932970881462097, 'token': 5271, 'token_str': 'fromage', 'sequence': 'Le camembert est un grand modele de fromage'}{'score': 0.05579502135515213, 'token': 1860, 'token_str': 'recette', 'sequence': 'Le camembert est un grand modele de recette'}{'score': 0.045015156269073486, 'token': 18203, 'token_str': 'desserts', 'sequence': 'Le camembert est un grand modele de desserts'}\n",
      "For Thread 0 Request Completed with the status code of: 200\n",
      "{'score': 0.16320142149925232, 'token': 4780, 'token_str': 'morceau', 'sequence': 'Le camembert est un grand morceau de langage'}{'score': 0.05805351585149765, 'token': 1900, 'token_str': 'plat', 'sequence': 'Le camembert est un grand plat de langage'}{'score': 0.056160710752010345, 'token': 510, 'token_str': 'livre', 'sequence': 'Le camembert est un grand livre de langage'}{'score': 0.03293436020612717, 'token': 1584, 'token_str': 'classique', 'sequence': 'Le camembert est un grand classique de langage'}{'score': 0.03035612590610981, 'token': 2803, 'token_str': 'cru', 'sequence': 'Le camembert est un grand cru de langage'}\n",
      "For Thread 1 Request Completed with the status code of: 200\n",
      "{'score': 0.32680636644363403, 'token': 281, 'token_str': 'nouveau', 'sequence': 'Le camembert est un nouveau modèle de langage'}{'score': 0.05294283106923103, 'token': 445, 'token_str': 'simple', 'sequence': 'Le camembert est un simple modèle de langage'}{'score': 0.051929276436567307, 'token': 238, 'token_str': 'autre', 'sequence': 'Le camembert est un autre modèle de langage'}{'score': 0.04585334658622742, 'token': 212, 'token_str': 'bon', 'sequence': 'Le camembert est un bon modèle de langage'}{'score': 0.039491768926382065, 'token': 2183, 'token_str': 'excellent', 'sequence': 'Le camembert est un excellent modèle de langage'}\n",
      "For Thread 2 Request Completed with the status code of: 200\n",
      "Main thread finished\n"
     ]
    }
   ],
   "source": [
    "data = {\n",
    "    \"text\": \"Le camembert est <mask> :)\",\n",
    "    \"model_name\": \"camembert-base\",\n",
    "    \"task\": \"fill-mask\"\n",
    "}\n",
    "\n",
    "# create a list to hold the thread objects\n",
    "threads = []\n",
    "texts = [\"Le camembert est un grand modele de <mask>\", \\\n",
    "         \"Le camembert est un grand <mask> de langage\", \\\n",
    "         \"Le camembert est un <mask> modèle de langage\"]\n",
    "# create and start 4 threads\n",
    "for i in range(3):\n",
    "    data[\"text\"] = texts[i]\n",
    "    t = threading.Thread(target=worker, args=(i, data,))\n",
    "    t.start()\n",
    "    threads.append(t)\n",
    "    time.sleep(2)\n",
    "\n",
    "# wait for all threads to finish\n",
    "for t in threads:\n",
    "    t.join()\n",
    "\n",
    "print('Main thread finished')"
   ]
  }
 ],
 "metadata": {
  "kernelspec": {
   "display_name": "tensor",
   "language": "python",
   "name": "python3"
  },
  "language_info": {
   "codemirror_mode": {
    "name": "ipython",
    "version": 3
   },
   "file_extension": ".py",
   "mimetype": "text/x-python",
   "name": "python",
   "nbconvert_exporter": "python",
   "pygments_lexer": "ipython3",
   "version": "3.9.7"
  },
  "orig_nbformat": 4
 },
 "nbformat": 4,
 "nbformat_minor": 2
}
